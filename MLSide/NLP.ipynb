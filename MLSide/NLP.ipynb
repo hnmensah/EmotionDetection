{
 "cells": [
  {
   "cell_type": "code",
   "execution_count": 3,
   "metadata": {
    "collapsed": true
   },
   "outputs": [],
   "source": [
    "import pandas as pd "
   ]
  },
  {
   "cell_type": "code",
   "execution_count": 4,
   "metadata": {
    "collapsed": true
   },
   "outputs": [],
   "source": [
    "import csv"
   ]
  },
  {
   "cell_type": "code",
   "execution_count": 5,
   "metadata": {
    "collapsed": true
   },
   "outputs": [],
   "source": [
    "df=pd.read_csv('ISEAR.csv')"
   ]
  },
  {
   "cell_type": "code",
   "execution_count": 6,
   "metadata": {},
   "outputs": [
    {
     "data": {
      "text/html": [
       "<div>\n",
       "<style>\n",
       "    .dataframe thead tr:only-child th {\n",
       "        text-align: right;\n",
       "    }\n",
       "\n",
       "    .dataframe thead th {\n",
       "        text-align: left;\n",
       "    }\n",
       "\n",
       "    .dataframe tbody tr th {\n",
       "        vertical-align: top;\n",
       "    }\n",
       "</style>\n",
       "<table border=\"1\" class=\"dataframe\">\n",
       "  <thead>\n",
       "    <tr style=\"text-align: right;\">\n",
       "      <th></th>\n",
       "      <th>emotion</th>\n",
       "      <th>text</th>\n",
       "      <th>none</th>\n",
       "    </tr>\n",
       "  </thead>\n",
       "  <tbody>\n",
       "    <tr>\n",
       "      <th>0</th>\n",
       "      <td>joy</td>\n",
       "      <td>On days when I feel close to my partner and ot...</td>\n",
       "      <td>NaN</td>\n",
       "    </tr>\n",
       "    <tr>\n",
       "      <th>1</th>\n",
       "      <td>fear</td>\n",
       "      <td>Every time I imagine that someone I love or I ...</td>\n",
       "      <td>NaN</td>\n",
       "    </tr>\n",
       "    <tr>\n",
       "      <th>2</th>\n",
       "      <td>anger</td>\n",
       "      <td>When I had been obviously unjustly treated and...</td>\n",
       "      <td>NaN</td>\n",
       "    </tr>\n",
       "    <tr>\n",
       "      <th>3</th>\n",
       "      <td>sadness</td>\n",
       "      <td>When I think about the short time that we live...</td>\n",
       "      <td>NaN</td>\n",
       "    </tr>\n",
       "    <tr>\n",
       "      <th>4</th>\n",
       "      <td>disgust</td>\n",
       "      <td>At a gathering I found myself involuntarily si...</td>\n",
       "      <td>NaN</td>\n",
       "    </tr>\n",
       "  </tbody>\n",
       "</table>\n",
       "</div>"
      ],
      "text/plain": [
       "   emotion                                               text none\n",
       "0      joy  On days when I feel close to my partner and ot...  NaN\n",
       "1     fear  Every time I imagine that someone I love or I ...  NaN\n",
       "2    anger  When I had been obviously unjustly treated and...  NaN\n",
       "3  sadness  When I think about the short time that we live...  NaN\n",
       "4  disgust  At a gathering I found myself involuntarily si...  NaN"
      ]
     },
     "execution_count": 6,
     "metadata": {},
     "output_type": "execute_result"
    }
   ],
   "source": [
    "df.head(5)"
   ]
  },
  {
   "cell_type": "code",
   "execution_count": 7,
   "metadata": {
    "collapsed": true
   },
   "outputs": [],
   "source": [
    "import nltk\n",
    "import re"
   ]
  },
  {
   "cell_type": "code",
   "execution_count": 8,
   "metadata": {},
   "outputs": [
    {
     "name": "stdout",
     "output_type": "stream",
     "text": [
      "[nltk_data] Downloading package stopwords to\n",
      "[nltk_data]     C:\\Users\\SRIJA\\AppData\\Roaming\\nltk_data...\n",
      "[nltk_data]   Package stopwords is already up-to-date!\n"
     ]
    },
    {
     "data": {
      "text/plain": [
       "True"
      ]
     },
     "execution_count": 8,
     "metadata": {},
     "output_type": "execute_result"
    }
   ],
   "source": [
    "nltk.download('stopwords')"
   ]
  },
  {
   "cell_type": "code",
   "execution_count": 9,
   "metadata": {
    "collapsed": true
   },
   "outputs": [],
   "source": [
    "import re\n",
    "from nltk.corpus import stopwords\n",
    "from nltk.stem.porter import PorterStemmer"
   ]
  },
  {
   "cell_type": "code",
   "execution_count": 10,
   "metadata": {},
   "outputs": [
    {
     "name": "stdout",
     "output_type": "stream",
     "text": [
      "<class 'pandas.core.frame.DataFrame'>\n",
      "RangeIndex: 7516 entries, 0 to 7515\n",
      "Data columns (total 3 columns):\n",
      "emotion    7516 non-null object\n",
      "text       7516 non-null object\n",
      "none       3 non-null object\n",
      "dtypes: object(3)\n",
      "memory usage: 176.2+ KB\n"
     ]
    }
   ],
   "source": [
    "df.info()"
   ]
  },
  {
   "cell_type": "code",
   "execution_count": 11,
   "metadata": {
    "collapsed": true
   },
   "outputs": [],
   "source": [
    "corpus=[]\n",
    "for i in range(0,7516):\n",
    "    x=re.sub('[^a-zA-Z]', ' ',df['text'][i])\n",
    "    x=x.lower()\n",
    "    x=x.split()\n",
    "    ps=PorterStemmer()\n",
    "    x=[ps.stem(word) for word in x if not word in set(stopwords.words('english'))]\n",
    "    x=' '.join(x)\n",
    "    corpus.append(x)\n",
    "   \n",
    "    "
   ]
  },
  {
   "cell_type": "code",
   "execution_count": 37,
   "metadata": {},
   "outputs": [
    {
     "name": "stdout",
     "output_type": "stream",
     "text": [
      "[[0 0 0 ..., 0 0 0]\n",
      " [0 0 0 ..., 0 0 0]\n",
      " [0 0 0 ..., 0 0 0]\n",
      " ..., \n",
      " [0 0 0 ..., 0 0 0]\n",
      " [0 0 0 ..., 0 0 0]\n",
      " [0 0 0 ..., 0 0 0]]\n",
      "[0 0 0 ..., 0 0 0]\n"
     ]
    }
   ],
   "source": [
    "from sklearn.feature_extraction.text import CountVectorizer\n",
    "cv=CountVectorizer()\n",
    "X=cv.fit_transform(corpus).toarray()\n",
    "print(X)\n",
    "y=df[['emotion']]\n",
    "print(X[0])"
   ]
  },
  {
   "cell_type": "code",
   "execution_count": 43,
   "metadata": {},
   "outputs": [
    {
     "name": "stdout",
     "output_type": "stream",
     "text": [
      "[0 0 0 ..., 0 0 0]\n"
     ]
    }
   ],
   "source": [
    "from sklearn.model_selection import train_test_split\n",
    "XTrain,XTest,YTrain,YTest=train_test_split(X,y,test_size=0.1,random_state=0)\n",
    "print(XTrain[0])"
   ]
  },
  {
   "cell_type": "code",
   "execution_count": 44,
   "metadata": {},
   "outputs": [
    {
     "name": "stdout",
     "output_type": "stream",
     "text": [
      "[0 0 0 ..., 0 0 0]\n"
     ]
    }
   ],
   "source": [
    "from sklearn.preprocessing import StandardScaler\n",
    "sc=StandardScaler()\n",
    "#XTrain=sc.fit_transform(XTrain)\n",
    "#XTest=sc.fit_transform(XTest)\n",
    "print(XTrain[0])\n"
   ]
  },
  {
   "cell_type": "code",
   "execution_count": 45,
   "metadata": {
    "collapsed": true
   },
   "outputs": [],
   "source": [
    "from sklearn.naive_bayes import GaussianNB"
   ]
  },
  {
   "cell_type": "code",
   "execution_count": 46,
   "metadata": {},
   "outputs": [
    {
     "name": "stderr",
     "output_type": "stream",
     "text": [
      "C:\\Anaconda\\lib\\site-packages\\sklearn\\utils\\validation.py:547: DataConversionWarning: A column-vector y was passed when a 1d array was expected. Please change the shape of y to (n_samples, ), for example using ravel().\n",
      "  y = column_or_1d(y, warn=True)\n"
     ]
    },
    {
     "data": {
      "text/plain": [
       "GaussianNB(priors=None)"
      ]
     },
     "execution_count": 46,
     "metadata": {},
     "output_type": "execute_result"
    }
   ],
   "source": [
    "classifier=GaussianNB()\n",
    "classifier.fit(XTrain,YTrain)"
   ]
  },
  {
   "cell_type": "code",
   "execution_count": 47,
   "metadata": {},
   "outputs": [
    {
     "name": "stdout",
     "output_type": "stream",
     "text": [
      "             precision    recall  f1-score   support\n",
      "\n",
      "      anger       0.12      0.26      0.16        58\n",
      "    disgust       0.20      0.38      0.26        50\n",
      "       fear       0.33      0.49      0.40        63\n",
      "      guilt       0.23      0.21      0.22       128\n",
      "        joy       0.41      0.41      0.41       117\n",
      "    sadness       0.66      0.24      0.36       268\n",
      "      shame       0.19      0.28      0.22        68\n",
      "\n",
      "avg / total       0.41      0.30      0.31       752\n",
      "\n"
     ]
    }
   ],
   "source": [
    "from sklearn.metrics import classification_report, confusion_matrix\n",
    "pred=classifier.predict(XTest)\n",
    "print(classification_report(pred,YTest))"
   ]
  },
  {
   "cell_type": "code",
   "execution_count": 48,
   "metadata": {
    "collapsed": true
   },
   "outputs": [],
   "source": [
    "from sklearn.ensemble import RandomForestClassifier"
   ]
  },
  {
   "cell_type": "code",
   "execution_count": 49,
   "metadata": {
    "collapsed": true
   },
   "outputs": [],
   "source": [
    "clfRandomForest=RandomForestClassifier()"
   ]
  },
  {
   "cell_type": "code",
   "execution_count": 50,
   "metadata": {},
   "outputs": [
    {
     "name": "stderr",
     "output_type": "stream",
     "text": [
      "C:\\Anaconda\\lib\\site-packages\\ipykernel_launcher.py:1: DataConversionWarning: A column-vector y was passed when a 1d array was expected. Please change the shape of y to (n_samples,), for example using ravel().\n",
      "  \"\"\"Entry point for launching an IPython kernel.\n"
     ]
    },
    {
     "data": {
      "text/plain": [
       "RandomForestClassifier(bootstrap=True, class_weight=None, criterion='gini',\n",
       "            max_depth=None, max_features='auto', max_leaf_nodes=None,\n",
       "            min_impurity_decrease=0.0, min_impurity_split=None,\n",
       "            min_samples_leaf=1, min_samples_split=2,\n",
       "            min_weight_fraction_leaf=0.0, n_estimators=10, n_jobs=1,\n",
       "            oob_score=False, random_state=None, verbose=0,\n",
       "            warm_start=False)"
      ]
     },
     "execution_count": 50,
     "metadata": {},
     "output_type": "execute_result"
    }
   ],
   "source": [
    "clfRandomForest.fit(XTrain,YTrain)"
   ]
  },
  {
   "cell_type": "code",
   "execution_count": 21,
   "metadata": {},
   "outputs": [
    {
     "name": "stdout",
     "output_type": "stream",
     "text": [
      "['fear' 'anger' 'joy' 'guilt' 'joy' 'fear' 'anger' 'sadness' 'joy'\n",
      " 'sadness' 'joy' 'shame' 'sadness' 'joy' 'anger' 'joy' 'shame' 'sadness'\n",
      " 'disgust' 'fear' 'guilt' 'anger' 'sadness' 'anger' 'fear' 'shame' 'joy'\n",
      " 'joy' 'sadness' 'joy' 'guilt' 'sadness' 'anger' 'anger' 'sadness' 'shame'\n",
      " 'joy' 'guilt' 'joy' 'joy' 'joy' 'disgust' 'joy' 'guilt' 'fear' 'joy'\n",
      " 'disgust' 'disgust' 'sadness' 'sadness' 'joy' 'disgust' 'shame' 'disgust'\n",
      " 'fear' 'sadness' 'joy' 'fear' 'sadness' 'fear' 'disgust' 'anger' 'shame'\n",
      " 'sadness' 'anger' 'guilt' 'anger' 'sadness' 'disgust' 'fear' 'sadness'\n",
      " 'anger' 'disgust' 'disgust' 'guilt' 'joy' 'shame' 'joy' 'joy' 'disgust'\n",
      " 'guilt' 'disgust' 'guilt' 'sadness' 'fear' 'fear' 'fear' 'sadness' 'guilt'\n",
      " 'fear' 'sadness' 'fear' 'joy' 'joy' 'joy' 'guilt' 'guilt' 'disgust'\n",
      " 'disgust' 'joy' 'anger' 'fear' 'disgust' 'sadness' 'fear' 'disgust'\n",
      " 'sadness' 'anger' 'disgust' 'joy' 'disgust' 'anger' 'fear' 'guilt'\n",
      " 'sadness' 'joy' 'anger' 'disgust' 'sadness' 'shame' 'disgust' 'shame'\n",
      " 'disgust' 'fear' 'sadness' 'fear' 'joy' 'shame' 'joy' 'disgust' 'anger'\n",
      " 'fear' 'shame' 'joy' 'disgust' 'joy' 'anger' 'guilt' 'disgust' 'disgust'\n",
      " 'joy' 'fear' 'disgust' 'fear' 'shame' 'joy' 'shame' 'fear' 'shame'\n",
      " 'disgust' 'guilt' 'disgust' 'disgust' 'fear' 'sadness' 'joy' 'shame'\n",
      " 'anger' 'joy' 'joy' 'joy' 'fear' 'disgust' 'shame' 'disgust' 'joy' 'joy'\n",
      " 'joy' 'shame' 'guilt' 'disgust' 'sadness' 'joy' 'anger' 'joy' 'disgust'\n",
      " 'guilt' 'shame' 'fear' 'shame' 'joy' 'guilt' 'joy' 'anger' 'shame' 'joy'\n",
      " 'fear' 'anger' 'fear' 'shame' 'anger' 'sadness' 'anger' 'fear' 'sadness'\n",
      " 'guilt' 'anger' 'guilt' 'anger' 'sadness' 'fear' 'disgust' 'joy' 'joy'\n",
      " 'anger' 'shame' 'guilt' 'shame' 'guilt' 'guilt' 'fear' 'anger' 'anger'\n",
      " 'disgust' 'disgust' 'shame' 'fear' 'joy' 'disgust' 'fear' 'disgust'\n",
      " 'sadness' 'anger' 'disgust' 'guilt' 'guilt' 'shame' 'joy' 'anger' 'joy'\n",
      " 'shame' 'shame' 'joy' 'anger' 'joy' 'fear' 'sadness' 'fear' 'anger'\n",
      " 'sadness' 'joy' 'shame' 'joy' 'shame' 'guilt' 'joy' 'fear' 'disgust'\n",
      " 'fear' 'joy' 'disgust' 'guilt' 'guilt' 'disgust' 'shame' 'disgust'\n",
      " 'sadness' 'fear' 'anger' 'disgust' 'fear' 'shame' 'joy' 'fear' 'joy'\n",
      " 'disgust' 'fear' 'shame' 'fear' 'guilt' 'sadness' 'fear' 'sadness' 'guilt'\n",
      " 'guilt' 'guilt' 'disgust' 'guilt' 'disgust' 'guilt' 'fear' 'anger' 'joy'\n",
      " 'sadness' 'fear' 'shame' 'sadness' 'sadness' 'shame' 'disgust' 'sadness'\n",
      " 'disgust' 'disgust' 'guilt' 'shame' 'guilt' 'guilt' 'joy' 'sadness' 'fear'\n",
      " 'joy' 'sadness' 'anger' 'shame' 'guilt' 'joy' 'joy' 'sadness' 'disgust'\n",
      " 'sadness' 'sadness' 'anger' 'disgust' 'shame' 'fear' 'guilt' 'disgust'\n",
      " 'shame' 'disgust' 'joy' 'anger' 'fear' 'joy' 'sadness' 'guilt' 'anger'\n",
      " 'anger' 'fear' 'fear' 'anger' 'shame' 'sadness' 'sadness' 'anger' 'anger'\n",
      " 'anger' 'joy' 'anger' 'sadness' 'guilt' 'shame' 'joy' 'fear' 'disgust'\n",
      " 'joy' 'shame' 'sadness' 'shame' 'joy' 'fear' 'joy' 'sadness' 'sadness'\n",
      " 'disgust' 'anger' 'guilt' 'joy' 'disgust' 'joy' 'shame' 'sadness' 'shame'\n",
      " 'anger' 'sadness' 'joy' 'fear' 'joy' 'guilt' 'sadness' 'shame' 'fear'\n",
      " 'fear' 'anger' 'anger' 'disgust' 'sadness' 'shame' 'sadness' 'anger'\n",
      " 'disgust' 'disgust' 'shame' 'disgust' 'joy' 'shame' 'sadness' 'sadness'\n",
      " 'anger' 'joy' 'shame' 'joy' 'sadness' 'guilt' 'fear' 'guilt' 'fear'\n",
      " 'sadness' 'disgust' 'fear' 'sadness' 'joy' 'shame' 'joy' 'anger' 'shame'\n",
      " 'disgust' 'disgust' 'sadness' 'anger' 'disgust' 'guilt' 'anger' 'disgust'\n",
      " 'joy' 'joy' 'shame' 'joy' 'shame' 'guilt' 'shame' 'anger' 'shame' 'guilt'\n",
      " 'anger' 'anger' 'disgust' 'guilt' 'guilt' 'fear' 'joy' 'shame' 'anger'\n",
      " 'disgust' 'shame' 'guilt' 'joy' 'disgust' 'fear' 'joy' 'fear' 'disgust'\n",
      " 'joy' 'guilt' 'fear' 'anger' 'joy' 'anger' 'joy' 'anger' 'guilt' 'guilt'\n",
      " 'anger' 'guilt' 'guilt' 'guilt' 'fear' 'disgust' 'sadness' 'shame' 'guilt'\n",
      " 'anger' 'disgust' 'joy' 'joy' 'joy' 'guilt' 'guilt' 'joy' 'shame' 'shame'\n",
      " 'shame' 'fear' 'disgust' 'joy' 'joy' 'sadness' 'anger' 'anger' 'anger'\n",
      " 'anger' 'guilt' 'sadness' 'fear' 'fear' 'sadness' 'anger' 'guilt' 'shame'\n",
      " 'guilt' 'shame' 'joy' 'guilt' 'shame' 'guilt' 'fear' 'joy' 'anger'\n",
      " 'disgust' 'shame' 'guilt' 'sadness' 'sadness' 'disgust' 'anger' 'guilt'\n",
      " 'sadness' 'anger' 'sadness' 'shame' 'fear' 'guilt' 'fear' 'sadness' 'joy'\n",
      " 'shame' 'joy' 'joy' 'guilt' 'anger' 'shame' 'anger' 'fear' 'joy' 'fear'\n",
      " 'guilt' 'fear' 'fear' 'disgust' 'sadness' 'shame' 'disgust' 'anger'\n",
      " 'shame' 'joy' 'anger' 'guilt' 'joy' 'guilt' 'disgust' 'joy' 'guilt'\n",
      " 'guilt' 'joy' 'joy' 'anger' 'joy' 'guilt' 'fear' 'shame' 'sadness' 'fear'\n",
      " 'anger' 'sadness' 'sadness' 'joy' 'disgust' 'joy' 'joy' 'joy' 'disgust'\n",
      " 'guilt' 'guilt' 'disgust' 'shame' 'shame' 'sadness' 'guilt' 'joy' 'shame'\n",
      " 'sadness' 'joy' 'joy' 'disgust' 'joy' 'joy' 'disgust' 'shame' 'anger'\n",
      " 'fear' 'guilt' 'guilt' 'sadness' 'fear' 'sadness' 'anger' 'anger' 'anger'\n",
      " 'joy' 'sadness' 'joy' 'sadness' 'guilt' 'fear' 'shame' 'joy' 'shame'\n",
      " 'guilt' 'guilt' 'sadness' 'fear' 'anger' 'joy' 'joy' 'sadness' 'disgust'\n",
      " 'joy' 'guilt' 'shame' 'joy' 'disgust' 'guilt' 'joy' 'joy' 'shame' 'shame'\n",
      " 'sadness' 'sadness' 'guilt' 'guilt' 'sadness' 'joy' 'joy' 'joy' 'joy'\n",
      " 'sadness' 'disgust' 'sadness' 'shame' 'joy' 'anger' 'anger' 'disgust'\n",
      " 'shame' 'sadness' 'joy' 'fear' 'joy' 'disgust' 'shame' 'shame' 'anger'\n",
      " 'joy' 'anger' 'joy' 'joy' 'disgust' 'fear' 'anger' 'sadness' 'sadness'\n",
      " 'disgust' 'fear' 'sadness' 'joy' 'joy' 'fear' 'joy' 'shame' 'joy' 'fear'\n",
      " 'shame' 'fear' 'guilt' 'fear' 'fear' 'joy' 'disgust' 'guilt' 'disgust'\n",
      " 'joy' 'joy' 'joy' 'shame' 'disgust' 'joy' 'joy' 'disgust' 'anger'\n",
      " 'disgust' 'disgust' 'shame' 'shame' 'fear' 'shame' 'guilt' 'joy' 'anger'\n",
      " 'anger' 'disgust' 'joy' 'anger' 'disgust' 'joy' 'sadness' 'fear' 'shame'\n",
      " 'joy' 'anger' 'guilt' 'disgust' 'joy' 'joy' 'shame' 'guilt' 'joy' 'anger'\n",
      " 'guilt' 'guilt' 'anger' 'joy' 'guilt' 'disgust' 'guilt' 'joy' 'anger'\n",
      " 'joy' 'disgust' 'anger' 'joy' 'anger' 'sadness' 'joy' 'joy' 'joy' 'shame'\n",
      " 'fear' 'shame' 'disgust' 'shame' 'guilt' 'fear' 'guilt' 'guilt' 'disgust'\n",
      " 'shame' 'joy' 'sadness' 'joy' 'disgust' 'anger' 'shame' 'guilt' 'shame'\n",
      " 'joy' 'anger' 'disgust' 'disgust' 'disgust' 'joy' 'fear' 'fear' 'anger']\n"
     ]
    }
   ],
   "source": [
    "predict=clfRandomForest.predict(XTest)\n",
    "print(predict)"
   ]
  },
  {
   "cell_type": "code",
   "execution_count": 51,
   "metadata": {},
   "outputs": [
    {
     "name": "stdout",
     "output_type": "stream",
     "text": [
      "             precision    recall  f1-score   support\n",
      "\n",
      "      anger       0.35      0.44      0.39        99\n",
      "    disgust       0.56      0.50      0.53       107\n",
      "       fear       0.62      0.62      0.62        93\n",
      "      guilt       0.37      0.44      0.40       100\n",
      "        joy       0.77      0.55      0.64       161\n",
      "    sadness       0.58      0.61      0.59        94\n",
      "      shame       0.40      0.42      0.41        98\n",
      "\n",
      "avg / total       0.54      0.51      0.52       752\n",
      "\n",
      "6024\n"
     ]
    }
   ],
   "source": [
    "print(classification_report(predict,YTest))\n",
    "l=len(XTrain[2])\n",
    "print(l)\n",
    "\n",
    "    "
   ]
  },
  {
   "cell_type": "code",
   "execution_count": 52,
   "metadata": {},
   "outputs": [
    {
     "name": "stderr",
     "output_type": "stream",
     "text": [
      "C:\\Anaconda\\lib\\site-packages\\sklearn\\utils\\validation.py:547: DataConversionWarning: A column-vector y was passed when a 1d array was expected. Please change the shape of y to (n_samples, ), for example using ravel().\n",
      "  y = column_or_1d(y, warn=True)\n"
     ]
    },
    {
     "data": {
      "text/plain": [
       "MultinomialNB(alpha=1.0, class_prior=None, fit_prior=True)"
      ]
     },
     "execution_count": 52,
     "metadata": {},
     "output_type": "execute_result"
    }
   ],
   "source": [
    "\n",
    "from sklearn.naive_bayes import MultinomialNB\n",
    "clf2 = MultinomialNB()\n",
    "clf2.fit(XTrain, YTrain)"
   ]
  },
  {
   "cell_type": "code",
   "execution_count": 53,
   "metadata": {},
   "outputs": [
    {
     "name": "stdout",
     "output_type": "stream",
     "text": [
      "['fear' 'anger' 'anger' 'guilt' 'joy' 'guilt' 'anger' 'sadness' 'anger'\n",
      " 'sadness' 'guilt' 'guilt' 'sadness' 'fear' 'anger' 'joy' 'shame' 'sadness'\n",
      " 'disgust' 'fear' 'shame' 'guilt' 'disgust' 'guilt' 'fear' 'shame' 'joy'\n",
      " 'joy' 'guilt' 'sadness' 'anger' 'sadness' 'disgust' 'sadness' 'sadness'\n",
      " 'shame' 'joy' 'joy' 'joy' 'joy' 'fear' 'anger' 'joy' 'guilt' 'fear' 'joy'\n",
      " 'disgust' 'fear' 'guilt' 'sadness' 'joy' 'sadness' 'anger' 'fear'\n",
      " 'disgust' 'sadness' 'disgust' 'fear' 'fear' 'fear' 'disgust' 'shame'\n",
      " 'anger' 'sadness' 'guilt' 'fear' 'sadness' 'sadness' 'guilt' 'fear'\n",
      " 'sadness' 'fear' 'anger' 'disgust' 'guilt' 'joy' 'joy' 'shame' 'guilt'\n",
      " 'disgust' 'guilt' 'disgust' 'joy' 'sadness' 'fear' 'fear' 'fear' 'fear'\n",
      " 'disgust' 'guilt' 'guilt' 'fear' 'fear' 'joy' 'anger' 'guilt' 'guilt'\n",
      " 'shame' 'guilt' 'joy' 'anger' 'shame' 'sadness' 'sadness' 'guilt'\n",
      " 'disgust' 'sadness' 'anger' 'disgust' 'joy' 'disgust' 'guilt' 'disgust'\n",
      " 'joy' 'sadness' 'fear' 'anger' 'disgust' 'sadness' 'shame' 'anger' 'shame'\n",
      " 'disgust' 'joy' 'sadness' 'fear' 'joy' 'disgust' 'joy' 'disgust' 'anger'\n",
      " 'guilt' 'shame' 'joy' 'anger' 'sadness' 'guilt' 'sadness' 'disgust'\n",
      " 'disgust' 'disgust' 'guilt' 'shame' 'joy' 'shame' 'anger' 'disgust' 'fear'\n",
      " 'anger' 'disgust' 'sadness' 'disgust' 'sadness' 'guilt' 'joy' 'sadness'\n",
      " 'fear' 'fear' 'joy' 'shame' 'joy' 'fear' 'disgust' 'shame' 'sadness'\n",
      " 'guilt' 'shame' 'joy' 'shame' 'guilt' 'disgust' 'sadness' 'anger'\n",
      " 'disgust' 'joy' 'shame' 'fear' 'anger' 'sadness' 'shame' 'joy' 'sadness'\n",
      " 'joy' 'anger' 'anger' 'shame' 'fear' 'guilt' 'fear' 'shame' 'anger' 'fear'\n",
      " 'anger' 'fear' 'disgust' 'shame' 'guilt' 'joy' 'guilt' 'guilt' 'guilt'\n",
      " 'disgust' 'joy' 'fear' 'sadness' 'shame' 'shame' 'sadness' 'joy' 'guilt'\n",
      " 'fear' 'anger' 'anger' 'shame' 'disgust' 'shame' 'fear' 'joy' 'anger'\n",
      " 'fear' 'disgust' 'anger' 'anger' 'joy' 'guilt' 'anger' 'shame' 'guilt'\n",
      " 'fear' 'joy' 'shame' 'guilt' 'shame' 'anger' 'joy' 'fear' 'sadness' 'fear'\n",
      " 'anger' 'shame' 'joy' 'guilt' 'anger' 'shame' 'guilt' 'joy' 'fear'\n",
      " 'disgust' 'joy' 'anger' 'sadness' 'guilt' 'sadness' 'anger' 'shame'\n",
      " 'disgust' 'sadness' 'anger' 'anger' 'disgust' 'fear' 'shame' 'fear' 'fear'\n",
      " 'joy' 'disgust' 'fear' 'shame' 'fear' 'guilt' 'fear' 'fear' 'sadness'\n",
      " 'guilt' 'guilt' 'sadness' 'disgust' 'guilt' 'disgust' 'guilt' 'fear'\n",
      " 'anger' 'disgust' 'sadness' 'fear' 'shame' 'sadness' 'sadness' 'guilt'\n",
      " 'disgust' 'anger' 'disgust' 'disgust' 'guilt' 'sadness' 'joy' 'guilt'\n",
      " 'joy' 'sadness' 'fear' 'joy' 'sadness' 'disgust' 'sadness' 'guilt'\n",
      " 'sadness' 'joy' 'sadness' 'anger' 'sadness' 'sadness' 'anger' 'guilt'\n",
      " 'disgust' 'sadness' 'guilt' 'disgust' 'joy' 'anger' 'joy' 'joy' 'guilt'\n",
      " 'shame' 'guilt' 'guilt' 'anger' 'shame' 'fear' 'fear' 'anger' 'guilt'\n",
      " 'anger' 'sadness' 'anger' 'joy' 'shame' 'joy' 'shame' 'fear' 'anger'\n",
      " 'anger' 'fear' 'guilt' 'shame' 'anger' 'guilt' 'shame' 'shame' 'fear'\n",
      " 'fear' 'joy' 'fear' 'sadness' 'anger' 'sadness' 'disgust' 'guilt' 'anger'\n",
      " 'joy' 'shame' 'sadness' 'shame' 'anger' 'guilt' 'joy' 'fear' 'joy' 'anger'\n",
      " 'sadness' 'shame' 'joy' 'fear' 'anger' 'anger' 'disgust' 'sadness' 'shame'\n",
      " 'sadness' 'anger' 'disgust' 'disgust' 'shame' 'disgust' 'joy' 'anger'\n",
      " 'fear' 'sadness' 'shame' 'joy' 'disgust' 'sadness' 'sadness' 'anger'\n",
      " 'fear' 'sadness' 'fear' 'fear' 'sadness' 'fear' 'anger' 'joy' 'shame'\n",
      " 'joy' 'shame' 'shame' 'disgust' 'disgust' 'sadness' 'disgust' 'fear'\n",
      " 'shame' 'guilt' 'disgust' 'anger' 'anger' 'sadness' 'joy' 'joy' 'joy'\n",
      " 'shame' 'sadness' 'fear' 'disgust' 'anger' 'shame' 'disgust' 'anger'\n",
      " 'sadness' 'fear' 'joy' 'shame' 'disgust' 'guilt' 'shame' 'guilt' 'joy'\n",
      " 'disgust' 'fear' 'joy' 'fear' 'anger' 'anger' 'sadness' 'fear' 'disgust'\n",
      " 'joy' 'anger' 'shame' 'sadness' 'shame' 'guilt' 'guilt' 'disgust' 'anger'\n",
      " 'sadness' 'fear' 'fear' 'sadness' 'shame' 'disgust' 'guilt' 'disgust'\n",
      " 'joy' 'sadness' 'joy' 'guilt' 'fear' 'joy' 'shame' 'joy' 'guilt' 'fear'\n",
      " 'disgust' 'joy' 'anger' 'sadness' 'shame' 'anger' 'anger' 'guilt' 'anger'\n",
      " 'sadness' 'fear' 'guilt' 'sadness' 'anger' 'guilt' 'anger' 'anger' 'shame'\n",
      " 'sadness' 'guilt' 'shame' 'guilt' 'guilt' 'guilt' 'anger' 'fear' 'shame'\n",
      " 'guilt' 'sadness' 'sadness' 'disgust' 'fear' 'anger' 'sadness' 'guilt'\n",
      " 'sadness' 'shame' 'fear' 'joy' 'fear' 'shame' 'guilt' 'shame' 'joy'\n",
      " 'guilt' 'guilt' 'disgust' 'joy' 'fear' 'anger' 'disgust' 'fear' 'shame'\n",
      " 'anger' 'shame' 'joy' 'shame' 'shame' 'disgust' 'disgust' 'shame' 'anger'\n",
      " 'anger' 'guilt' 'joy' 'guilt' 'guilt' 'fear' 'guilt' 'guilt' 'joy'\n",
      " 'sadness' 'anger' 'shame' 'guilt' 'shame' 'sadness' 'guilt' 'fear'\n",
      " 'sadness' 'sadness' 'guilt' 'joy' 'disgust' 'anger' 'joy' 'joy' 'anger'\n",
      " 'shame' 'guilt' 'joy' 'shame' 'shame' 'sadness' 'guilt' 'fear' 'shame'\n",
      " 'sadness' 'sadness' 'anger' 'disgust' 'joy' 'anger' 'disgust' 'sadness'\n",
      " 'anger' 'shame' 'shame' 'sadness' 'sadness' 'sadness' 'sadness' 'shame'\n",
      " 'anger' 'guilt' 'shame' 'sadness' 'joy' 'guilt' 'guilt' 'joy' 'guilt'\n",
      " 'joy' 'shame' 'anger' 'guilt' 'sadness' 'anger' 'anger' 'joy' 'anger'\n",
      " 'guilt' 'sadness' 'fear' 'guilt' 'guilt' 'joy' 'disgust' 'guilt' 'joy'\n",
      " 'joy' 'fear' 'shame' 'guilt' 'shame' 'disgust' 'guilt' 'sadness' 'shame'\n",
      " 'joy' 'joy' 'sadness' 'sadness' 'disgust' 'guilt' 'shame' 'joy' 'disgust'\n",
      " 'disgust' 'guilt' 'shame' 'sadness' 'sadness' 'sadness' 'fear' 'shame'\n",
      " 'guilt' 'shame' 'anger' 'fear' 'anger' 'joy' 'joy' 'anger' 'guilt' 'anger'\n",
      " 'sadness' 'sadness' 'disgust' 'fear' 'joy' 'joy' 'guilt' 'anger' 'joy'\n",
      " 'anger' 'joy' 'anger' 'shame' 'fear' 'guilt' 'fear' 'fear' 'joy' 'disgust'\n",
      " 'guilt' 'disgust' 'joy' 'joy' 'guilt' 'shame' 'disgust' 'joy' 'joy'\n",
      " 'disgust' 'anger' 'disgust' 'joy' 'shame' 'shame' 'fear' 'guilt' 'anger'\n",
      " 'joy' 'sadness' 'guilt' 'anger' 'guilt' 'disgust' 'anger' 'joy' 'sadness'\n",
      " 'fear' 'disgust' 'joy' 'guilt' 'disgust' 'disgust' 'joy' 'anger' 'shame'\n",
      " 'anger' 'fear' 'fear' 'fear' 'anger' 'fear' 'joy' 'shame' 'disgust'\n",
      " 'guilt' 'joy' 'sadness' 'sadness' 'disgust' 'disgust' 'joy' 'disgust'\n",
      " 'sadness' 'shame' 'guilt' 'anger' 'disgust' 'fear' 'joy' 'disgust' 'fear'\n",
      " 'shame' 'guilt' 'guilt' 'fear' 'shame' 'shame' 'joy' 'disgust' 'joy'\n",
      " 'shame' 'anger' 'shame' 'joy' 'shame' 'joy' 'guilt' 'shame' 'disgust'\n",
      " 'shame' 'joy' 'fear' 'fear' 'disgust']\n"
     ]
    }
   ],
   "source": [
    "predict=clf2.predict(XTest)\n",
    "print(predict)"
   ]
  },
  {
   "cell_type": "code",
   "execution_count": 54,
   "metadata": {},
   "outputs": [
    {
     "name": "stdout",
     "output_type": "stream",
     "text": [
      "             precision    recall  f1-score   support\n",
      "\n",
      "      anger       0.45      0.53      0.49       108\n",
      "    disgust       0.61      0.61      0.61        96\n",
      "       fear       0.71      0.65      0.68       102\n",
      "      guilt       0.43      0.44      0.43       116\n",
      "        joy       0.76      0.75      0.76       117\n",
      "    sadness       0.58      0.53      0.55       108\n",
      "      shame       0.44      0.43      0.43       105\n",
      "\n",
      "avg / total       0.57      0.56      0.56       752\n",
      "\n"
     ]
    }
   ],
   "source": [
    "print(classification_report(predict,YTest))"
   ]
  },
  {
   "cell_type": "code",
   "execution_count": null,
   "metadata": {
    "collapsed": true
   },
   "outputs": [],
   "source": []
  }
 ],
 "metadata": {
  "kernelspec": {
   "display_name": "Python 3",
   "language": "python",
   "name": "python3"
  },
  "language_info": {
   "codemirror_mode": {
    "name": "ipython",
    "version": 3
   },
   "file_extension": ".py",
   "mimetype": "text/x-python",
   "name": "python",
   "nbconvert_exporter": "python",
   "pygments_lexer": "ipython3",
   "version": "3.6.2"
  }
 },
 "nbformat": 4,
 "nbformat_minor": 2
}
